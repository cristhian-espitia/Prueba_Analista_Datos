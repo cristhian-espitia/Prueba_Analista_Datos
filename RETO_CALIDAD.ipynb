{
  "nbformat": 4,
  "nbformat_minor": 0,
  "metadata": {
    "colab": {
      "provenance": []
    },
    "kernelspec": {
      "name": "python3",
      "display_name": "Python 3"
    },
    "language_info": {
      "name": "python"
    }
  },
  "cells": [
    {
      "cell_type": "markdown",
      "source": [
        "#TRAEMOS LIBRERIAS A UTILIZAR:👩‍💻👩‍💻"
      ],
      "metadata": {
        "id": "U7ZhPNw6co7d"
      }
    },
    {
      "cell_type": "code",
      "source": [
        "import pandas as pd\n",
        "import numpy as np\n",
        "import os"
      ],
      "metadata": {
        "id": "hlktMKAbcrt1"
      },
      "execution_count": 1,
      "outputs": []
    },
    {
      "cell_type": "markdown",
      "source": [
        "#TRAEMOS EL ARCHIVO  , AJUSTANDOLO SEGUN EL SEPARADOR QUE TIENE \";\"\n"
      ],
      "metadata": {
        "id": "eAKWGL7jc0Yx"
      }
    },
    {
      "cell_type": "code",
      "source": [
        "df_persona= pd.read_csv('/content/drive/MyDrive/Persona2.csv', sep=';')\n",
        "df_persona"
      ],
      "metadata": {
        "colab": {
          "base_uri": "https://localhost:8080/",
          "height": 592
        },
        "id": "QVq9N_5cddA6",
        "outputId": "1b41ebd2-14f1-4f94-ea09-d997d84aaaf3"
      },
      "execution_count": 4,
      "outputs": [
        {
          "output_type": "execute_result",
          "data": {
            "text/plain": [
              "        NumIdPersona  id_empresa Genero FechaNacimiento  Edad  Salario  \\\n",
              "0          1174205.0       56353      F       1/01/1968    52  1800000   \n",
              "1           800759.0       13625      M      10/11/1930    88  4139944   \n",
              "2           809497.0       13922      M      24/10/1929    89  2052757   \n",
              "3           849342.0       15448      M       5/11/1930    88  2331227   \n",
              "4           896732.0       17649      M      11/11/1928    90  2372000   \n",
              "...              ...         ...    ...             ...   ...      ...   \n",
              "594186     1430358.0       59001      F      20/12/1993    26   877803   \n",
              "594187     1430632.0       59092      M       4/03/1989    30   828116   \n",
              "594188     1431245.0       42960      M       6/11/1991    28   829000   \n",
              "594189     1431565.0       41484      F      28/07/1995    24   828116   \n",
              "594190     1437508.0       45740      M       3/10/1974    45   877803   \n",
              "\n",
              "       Categoria Segmento_poblacional      segmento_grupo_familiar  \\\n",
              "0              b                Medio                          NaN   \n",
              "1              C                Medio              PAREJA CONYUGAL   \n",
              "2              b                Medio     FAMILIA NUCLEAR INTEGRAL   \n",
              "3              b                Medio              PAREJA CONYUGAL   \n",
              "4              b                Medio                          NaN   \n",
              "...          ...                  ...                          ...   \n",
              "594186         A                Joven  AFILIADO SIN GRUPO FAMILIAR   \n",
              "594187         A               Basico  AFILIADO SIN GRUPO FAMILIAR   \n",
              "594188         A                Joven  AFILIADO SIN GRUPO FAMILIAR   \n",
              "594189         A               Basico  AFILIADO SIN GRUPO FAMILIAR   \n",
              "594190         A               Basico       FAMILIA MONOPARENTERAL   \n",
              "\n",
              "       DepartamentoPersona MunicipioPersona  EstratoPersona  \n",
              "0                      NaN              NaN             NaN  \n",
              "1         DISTRITO CAPITAL      BOGOTA D.C.             5.0  \n",
              "2         DISTRITO CAPITAL      BOGOTA D.C.             5.0  \n",
              "3                      NaN              NaN             NaN  \n",
              "4                      NaN              NaN             NaN  \n",
              "...                    ...              ...             ...  \n",
              "594186                 NaN              NaN             NaN  \n",
              "594187                 NaN              NaN             NaN  \n",
              "594188    DISTRITO CAPITAL      BOGOTA D.C.             2.0  \n",
              "594189    DISTRITO CAPITAL      BOGOTA D.C.             NaN  \n",
              "594190                 NaN              NaN             NaN  \n",
              "\n",
              "[594191 rows x 12 columns]"
            ],
            "text/html": [
              "\n",
              "  <div id=\"df-ede26b47-11b6-4fb1-8e75-d4ffdec983de\">\n",
              "    <div class=\"colab-df-container\">\n",
              "      <div>\n",
              "<style scoped>\n",
              "    .dataframe tbody tr th:only-of-type {\n",
              "        vertical-align: middle;\n",
              "    }\n",
              "\n",
              "    .dataframe tbody tr th {\n",
              "        vertical-align: top;\n",
              "    }\n",
              "\n",
              "    .dataframe thead th {\n",
              "        text-align: right;\n",
              "    }\n",
              "</style>\n",
              "<table border=\"1\" class=\"dataframe\">\n",
              "  <thead>\n",
              "    <tr style=\"text-align: right;\">\n",
              "      <th></th>\n",
              "      <th>NumIdPersona</th>\n",
              "      <th>id_empresa</th>\n",
              "      <th>Genero</th>\n",
              "      <th>FechaNacimiento</th>\n",
              "      <th>Edad</th>\n",
              "      <th>Salario</th>\n",
              "      <th>Categoria</th>\n",
              "      <th>Segmento_poblacional</th>\n",
              "      <th>segmento_grupo_familiar</th>\n",
              "      <th>DepartamentoPersona</th>\n",
              "      <th>MunicipioPersona</th>\n",
              "      <th>EstratoPersona</th>\n",
              "    </tr>\n",
              "  </thead>\n",
              "  <tbody>\n",
              "    <tr>\n",
              "      <th>0</th>\n",
              "      <td>1174205.0</td>\n",
              "      <td>56353</td>\n",
              "      <td>F</td>\n",
              "      <td>1/01/1968</td>\n",
              "      <td>52</td>\n",
              "      <td>1800000</td>\n",
              "      <td>b</td>\n",
              "      <td>Medio</td>\n",
              "      <td>NaN</td>\n",
              "      <td>NaN</td>\n",
              "      <td>NaN</td>\n",
              "      <td>NaN</td>\n",
              "    </tr>\n",
              "    <tr>\n",
              "      <th>1</th>\n",
              "      <td>800759.0</td>\n",
              "      <td>13625</td>\n",
              "      <td>M</td>\n",
              "      <td>10/11/1930</td>\n",
              "      <td>88</td>\n",
              "      <td>4139944</td>\n",
              "      <td>C</td>\n",
              "      <td>Medio</td>\n",
              "      <td>PAREJA CONYUGAL</td>\n",
              "      <td>DISTRITO CAPITAL</td>\n",
              "      <td>BOGOTA D.C.</td>\n",
              "      <td>5.0</td>\n",
              "    </tr>\n",
              "    <tr>\n",
              "      <th>2</th>\n",
              "      <td>809497.0</td>\n",
              "      <td>13922</td>\n",
              "      <td>M</td>\n",
              "      <td>24/10/1929</td>\n",
              "      <td>89</td>\n",
              "      <td>2052757</td>\n",
              "      <td>b</td>\n",
              "      <td>Medio</td>\n",
              "      <td>FAMILIA NUCLEAR INTEGRAL</td>\n",
              "      <td>DISTRITO CAPITAL</td>\n",
              "      <td>BOGOTA D.C.</td>\n",
              "      <td>5.0</td>\n",
              "    </tr>\n",
              "    <tr>\n",
              "      <th>3</th>\n",
              "      <td>849342.0</td>\n",
              "      <td>15448</td>\n",
              "      <td>M</td>\n",
              "      <td>5/11/1930</td>\n",
              "      <td>88</td>\n",
              "      <td>2331227</td>\n",
              "      <td>b</td>\n",
              "      <td>Medio</td>\n",
              "      <td>PAREJA CONYUGAL</td>\n",
              "      <td>NaN</td>\n",
              "      <td>NaN</td>\n",
              "      <td>NaN</td>\n",
              "    </tr>\n",
              "    <tr>\n",
              "      <th>4</th>\n",
              "      <td>896732.0</td>\n",
              "      <td>17649</td>\n",
              "      <td>M</td>\n",
              "      <td>11/11/1928</td>\n",
              "      <td>90</td>\n",
              "      <td>2372000</td>\n",
              "      <td>b</td>\n",
              "      <td>Medio</td>\n",
              "      <td>NaN</td>\n",
              "      <td>NaN</td>\n",
              "      <td>NaN</td>\n",
              "      <td>NaN</td>\n",
              "    </tr>\n",
              "    <tr>\n",
              "      <th>...</th>\n",
              "      <td>...</td>\n",
              "      <td>...</td>\n",
              "      <td>...</td>\n",
              "      <td>...</td>\n",
              "      <td>...</td>\n",
              "      <td>...</td>\n",
              "      <td>...</td>\n",
              "      <td>...</td>\n",
              "      <td>...</td>\n",
              "      <td>...</td>\n",
              "      <td>...</td>\n",
              "      <td>...</td>\n",
              "    </tr>\n",
              "    <tr>\n",
              "      <th>594186</th>\n",
              "      <td>1430358.0</td>\n",
              "      <td>59001</td>\n",
              "      <td>F</td>\n",
              "      <td>20/12/1993</td>\n",
              "      <td>26</td>\n",
              "      <td>877803</td>\n",
              "      <td>A</td>\n",
              "      <td>Joven</td>\n",
              "      <td>AFILIADO SIN GRUPO FAMILIAR</td>\n",
              "      <td>NaN</td>\n",
              "      <td>NaN</td>\n",
              "      <td>NaN</td>\n",
              "    </tr>\n",
              "    <tr>\n",
              "      <th>594187</th>\n",
              "      <td>1430632.0</td>\n",
              "      <td>59092</td>\n",
              "      <td>M</td>\n",
              "      <td>4/03/1989</td>\n",
              "      <td>30</td>\n",
              "      <td>828116</td>\n",
              "      <td>A</td>\n",
              "      <td>Basico</td>\n",
              "      <td>AFILIADO SIN GRUPO FAMILIAR</td>\n",
              "      <td>NaN</td>\n",
              "      <td>NaN</td>\n",
              "      <td>NaN</td>\n",
              "    </tr>\n",
              "    <tr>\n",
              "      <th>594188</th>\n",
              "      <td>1431245.0</td>\n",
              "      <td>42960</td>\n",
              "      <td>M</td>\n",
              "      <td>6/11/1991</td>\n",
              "      <td>28</td>\n",
              "      <td>829000</td>\n",
              "      <td>A</td>\n",
              "      <td>Joven</td>\n",
              "      <td>AFILIADO SIN GRUPO FAMILIAR</td>\n",
              "      <td>DISTRITO CAPITAL</td>\n",
              "      <td>BOGOTA D.C.</td>\n",
              "      <td>2.0</td>\n",
              "    </tr>\n",
              "    <tr>\n",
              "      <th>594189</th>\n",
              "      <td>1431565.0</td>\n",
              "      <td>41484</td>\n",
              "      <td>F</td>\n",
              "      <td>28/07/1995</td>\n",
              "      <td>24</td>\n",
              "      <td>828116</td>\n",
              "      <td>A</td>\n",
              "      <td>Basico</td>\n",
              "      <td>AFILIADO SIN GRUPO FAMILIAR</td>\n",
              "      <td>DISTRITO CAPITAL</td>\n",
              "      <td>BOGOTA D.C.</td>\n",
              "      <td>NaN</td>\n",
              "    </tr>\n",
              "    <tr>\n",
              "      <th>594190</th>\n",
              "      <td>1437508.0</td>\n",
              "      <td>45740</td>\n",
              "      <td>M</td>\n",
              "      <td>3/10/1974</td>\n",
              "      <td>45</td>\n",
              "      <td>877803</td>\n",
              "      <td>A</td>\n",
              "      <td>Basico</td>\n",
              "      <td>FAMILIA MONOPARENTERAL</td>\n",
              "      <td>NaN</td>\n",
              "      <td>NaN</td>\n",
              "      <td>NaN</td>\n",
              "    </tr>\n",
              "  </tbody>\n",
              "</table>\n",
              "<p>594191 rows × 12 columns</p>\n",
              "</div>\n",
              "      <button class=\"colab-df-convert\" onclick=\"convertToInteractive('df-ede26b47-11b6-4fb1-8e75-d4ffdec983de')\"\n",
              "              title=\"Convert this dataframe to an interactive table.\"\n",
              "              style=\"display:none;\">\n",
              "        \n",
              "  <svg xmlns=\"http://www.w3.org/2000/svg\" height=\"24px\"viewBox=\"0 0 24 24\"\n",
              "       width=\"24px\">\n",
              "    <path d=\"M0 0h24v24H0V0z\" fill=\"none\"/>\n",
              "    <path d=\"M18.56 5.44l.94 2.06.94-2.06 2.06-.94-2.06-.94-.94-2.06-.94 2.06-2.06.94zm-11 1L8.5 8.5l.94-2.06 2.06-.94-2.06-.94L8.5 2.5l-.94 2.06-2.06.94zm10 10l.94 2.06.94-2.06 2.06-.94-2.06-.94-.94-2.06-.94 2.06-2.06.94z\"/><path d=\"M17.41 7.96l-1.37-1.37c-.4-.4-.92-.59-1.43-.59-.52 0-1.04.2-1.43.59L10.3 9.45l-7.72 7.72c-.78.78-.78 2.05 0 2.83L4 21.41c.39.39.9.59 1.41.59.51 0 1.02-.2 1.41-.59l7.78-7.78 2.81-2.81c.8-.78.8-2.07 0-2.86zM5.41 20L4 18.59l7.72-7.72 1.47 1.35L5.41 20z\"/>\n",
              "  </svg>\n",
              "      </button>\n",
              "      \n",
              "  <style>\n",
              "    .colab-df-container {\n",
              "      display:flex;\n",
              "      flex-wrap:wrap;\n",
              "      gap: 12px;\n",
              "    }\n",
              "\n",
              "    .colab-df-convert {\n",
              "      background-color: #E8F0FE;\n",
              "      border: none;\n",
              "      border-radius: 50%;\n",
              "      cursor: pointer;\n",
              "      display: none;\n",
              "      fill: #1967D2;\n",
              "      height: 32px;\n",
              "      padding: 0 0 0 0;\n",
              "      width: 32px;\n",
              "    }\n",
              "\n",
              "    .colab-df-convert:hover {\n",
              "      background-color: #E2EBFA;\n",
              "      box-shadow: 0px 1px 2px rgba(60, 64, 67, 0.3), 0px 1px 3px 1px rgba(60, 64, 67, 0.15);\n",
              "      fill: #174EA6;\n",
              "    }\n",
              "\n",
              "    [theme=dark] .colab-df-convert {\n",
              "      background-color: #3B4455;\n",
              "      fill: #D2E3FC;\n",
              "    }\n",
              "\n",
              "    [theme=dark] .colab-df-convert:hover {\n",
              "      background-color: #434B5C;\n",
              "      box-shadow: 0px 1px 3px 1px rgba(0, 0, 0, 0.15);\n",
              "      filter: drop-shadow(0px 1px 2px rgba(0, 0, 0, 0.3));\n",
              "      fill: #FFFFFF;\n",
              "    }\n",
              "  </style>\n",
              "\n",
              "      <script>\n",
              "        const buttonEl =\n",
              "          document.querySelector('#df-ede26b47-11b6-4fb1-8e75-d4ffdec983de button.colab-df-convert');\n",
              "        buttonEl.style.display =\n",
              "          google.colab.kernel.accessAllowed ? 'block' : 'none';\n",
              "\n",
              "        async function convertToInteractive(key) {\n",
              "          const element = document.querySelector('#df-ede26b47-11b6-4fb1-8e75-d4ffdec983de');\n",
              "          const dataTable =\n",
              "            await google.colab.kernel.invokeFunction('convertToInteractive',\n",
              "                                                     [key], {});\n",
              "          if (!dataTable) return;\n",
              "\n",
              "          const docLinkHtml = 'Like what you see? Visit the ' +\n",
              "            '<a target=\"_blank\" href=https://colab.research.google.com/notebooks/data_table.ipynb>data table notebook</a>'\n",
              "            + ' to learn more about interactive tables.';\n",
              "          element.innerHTML = '';\n",
              "          dataTable['output_type'] = 'display_data';\n",
              "          await google.colab.output.renderOutput(dataTable, element);\n",
              "          const docLink = document.createElement('div');\n",
              "          docLink.innerHTML = docLinkHtml;\n",
              "          element.appendChild(docLink);\n",
              "        }\n",
              "      </script>\n",
              "    </div>\n",
              "  </div>\n",
              "  "
            ]
          },
          "metadata": {},
          "execution_count": 4
        }
      ]
    },
    {
      "cell_type": "markdown",
      "source": [
        "## CONOCIENDO LOS DATOS"
      ],
      "metadata": {
        "id": "ml1cQcuwekwt"
      }
    },
    {
      "cell_type": "markdown",
      "source": [
        "1.\t¿Como está perfilada las bases de datos ?"
      ],
      "metadata": {
        "id": "CFPMJkimqt1H"
      }
    },
    {
      "cell_type": "markdown",
      "source": [
        "Visualizando todas las columnas"
      ],
      "metadata": {
        "id": "41TkZQ8SgUGc"
      }
    },
    {
      "cell_type": "code",
      "source": [
        "print (df_persona.columns)\n",
        "print ('-----------------------------')"
      ],
      "metadata": {
        "colab": {
          "base_uri": "https://localhost:8080/"
        },
        "id": "Jz1aVG0MgSuW",
        "outputId": "ad26bc68-5900-4e82-db0c-2a0dee7fe993"
      },
      "execution_count": 5,
      "outputs": [
        {
          "output_type": "stream",
          "name": "stdout",
          "text": [
            "Index(['NumIdPersona', 'id_empresa', 'Genero', 'FechaNacimiento', 'Edad',\n",
            "       'Salario', 'Categoria', 'Segmento_poblacional',\n",
            "       'segmento_grupo_familiar', 'DepartamentoPersona', 'MunicipioPersona',\n",
            "       'EstratoPersona'],\n",
            "      dtype='object')\n",
            "-----------------------------\n"
          ]
        }
      ]
    },
    {
      "cell_type": "markdown",
      "source": [
        "Descripcion"
      ],
      "metadata": {
        "id": "tjS6x5I8nX8C"
      }
    },
    {
      "cell_type": "code",
      "source": [
        "df_persona.describe()"
      ],
      "metadata": {
        "colab": {
          "base_uri": "https://localhost:8080/",
          "height": 300
        },
        "id": "ZIyHD8QqnYkd",
        "outputId": "1ac9a3be-15b5-4920-9304-73fe1c0cd910"
      },
      "execution_count": 10,
      "outputs": [
        {
          "output_type": "execute_result",
          "data": {
            "text/plain": [
              "       NumIdPersona     id_empresa           Edad       Salario  \\\n",
              "count  5.940130e+05  594191.000000  594191.000000  5.941910e+05   \n",
              "mean   8.090480e+05   49508.570179      39.220263  2.161698e+06   \n",
              "std    4.201813e+05   12653.770029      11.997544  4.238579e+06   \n",
              "min    4.000000e+00       1.000000       0.000000  0.000000e+00   \n",
              "25%    4.405340e+05   44624.000000      30.000000  8.281160e+05   \n",
              "50%    8.708110e+05   50158.000000      38.000000  1.070000e+06   \n",
              "75%    1.182950e+06   55308.000000      47.000000  2.040828e+06   \n",
              "max    1.437512e+06   74045.000000     120.000000  1.550000e+09   \n",
              "\n",
              "       EstratoPersona  \n",
              "count   369316.000000  \n",
              "mean         2.620201  \n",
              "std          1.181503  \n",
              "min          0.000000  \n",
              "25%          2.000000  \n",
              "50%          3.000000  \n",
              "75%          3.000000  \n",
              "max          6.000000  "
            ],
            "text/html": [
              "\n",
              "  <div id=\"df-c553a9e0-9318-4cee-a7d6-2f4032b81a88\">\n",
              "    <div class=\"colab-df-container\">\n",
              "      <div>\n",
              "<style scoped>\n",
              "    .dataframe tbody tr th:only-of-type {\n",
              "        vertical-align: middle;\n",
              "    }\n",
              "\n",
              "    .dataframe tbody tr th {\n",
              "        vertical-align: top;\n",
              "    }\n",
              "\n",
              "    .dataframe thead th {\n",
              "        text-align: right;\n",
              "    }\n",
              "</style>\n",
              "<table border=\"1\" class=\"dataframe\">\n",
              "  <thead>\n",
              "    <tr style=\"text-align: right;\">\n",
              "      <th></th>\n",
              "      <th>NumIdPersona</th>\n",
              "      <th>id_empresa</th>\n",
              "      <th>Edad</th>\n",
              "      <th>Salario</th>\n",
              "      <th>EstratoPersona</th>\n",
              "    </tr>\n",
              "  </thead>\n",
              "  <tbody>\n",
              "    <tr>\n",
              "      <th>count</th>\n",
              "      <td>5.940130e+05</td>\n",
              "      <td>594191.000000</td>\n",
              "      <td>594191.000000</td>\n",
              "      <td>5.941910e+05</td>\n",
              "      <td>369316.000000</td>\n",
              "    </tr>\n",
              "    <tr>\n",
              "      <th>mean</th>\n",
              "      <td>8.090480e+05</td>\n",
              "      <td>49508.570179</td>\n",
              "      <td>39.220263</td>\n",
              "      <td>2.161698e+06</td>\n",
              "      <td>2.620201</td>\n",
              "    </tr>\n",
              "    <tr>\n",
              "      <th>std</th>\n",
              "      <td>4.201813e+05</td>\n",
              "      <td>12653.770029</td>\n",
              "      <td>11.997544</td>\n",
              "      <td>4.238579e+06</td>\n",
              "      <td>1.181503</td>\n",
              "    </tr>\n",
              "    <tr>\n",
              "      <th>min</th>\n",
              "      <td>4.000000e+00</td>\n",
              "      <td>1.000000</td>\n",
              "      <td>0.000000</td>\n",
              "      <td>0.000000e+00</td>\n",
              "      <td>0.000000</td>\n",
              "    </tr>\n",
              "    <tr>\n",
              "      <th>25%</th>\n",
              "      <td>4.405340e+05</td>\n",
              "      <td>44624.000000</td>\n",
              "      <td>30.000000</td>\n",
              "      <td>8.281160e+05</td>\n",
              "      <td>2.000000</td>\n",
              "    </tr>\n",
              "    <tr>\n",
              "      <th>50%</th>\n",
              "      <td>8.708110e+05</td>\n",
              "      <td>50158.000000</td>\n",
              "      <td>38.000000</td>\n",
              "      <td>1.070000e+06</td>\n",
              "      <td>3.000000</td>\n",
              "    </tr>\n",
              "    <tr>\n",
              "      <th>75%</th>\n",
              "      <td>1.182950e+06</td>\n",
              "      <td>55308.000000</td>\n",
              "      <td>47.000000</td>\n",
              "      <td>2.040828e+06</td>\n",
              "      <td>3.000000</td>\n",
              "    </tr>\n",
              "    <tr>\n",
              "      <th>max</th>\n",
              "      <td>1.437512e+06</td>\n",
              "      <td>74045.000000</td>\n",
              "      <td>120.000000</td>\n",
              "      <td>1.550000e+09</td>\n",
              "      <td>6.000000</td>\n",
              "    </tr>\n",
              "  </tbody>\n",
              "</table>\n",
              "</div>\n",
              "      <button class=\"colab-df-convert\" onclick=\"convertToInteractive('df-c553a9e0-9318-4cee-a7d6-2f4032b81a88')\"\n",
              "              title=\"Convert this dataframe to an interactive table.\"\n",
              "              style=\"display:none;\">\n",
              "        \n",
              "  <svg xmlns=\"http://www.w3.org/2000/svg\" height=\"24px\"viewBox=\"0 0 24 24\"\n",
              "       width=\"24px\">\n",
              "    <path d=\"M0 0h24v24H0V0z\" fill=\"none\"/>\n",
              "    <path d=\"M18.56 5.44l.94 2.06.94-2.06 2.06-.94-2.06-.94-.94-2.06-.94 2.06-2.06.94zm-11 1L8.5 8.5l.94-2.06 2.06-.94-2.06-.94L8.5 2.5l-.94 2.06-2.06.94zm10 10l.94 2.06.94-2.06 2.06-.94-2.06-.94-.94-2.06-.94 2.06-2.06.94z\"/><path d=\"M17.41 7.96l-1.37-1.37c-.4-.4-.92-.59-1.43-.59-.52 0-1.04.2-1.43.59L10.3 9.45l-7.72 7.72c-.78.78-.78 2.05 0 2.83L4 21.41c.39.39.9.59 1.41.59.51 0 1.02-.2 1.41-.59l7.78-7.78 2.81-2.81c.8-.78.8-2.07 0-2.86zM5.41 20L4 18.59l7.72-7.72 1.47 1.35L5.41 20z\"/>\n",
              "  </svg>\n",
              "      </button>\n",
              "      \n",
              "  <style>\n",
              "    .colab-df-container {\n",
              "      display:flex;\n",
              "      flex-wrap:wrap;\n",
              "      gap: 12px;\n",
              "    }\n",
              "\n",
              "    .colab-df-convert {\n",
              "      background-color: #E8F0FE;\n",
              "      border: none;\n",
              "      border-radius: 50%;\n",
              "      cursor: pointer;\n",
              "      display: none;\n",
              "      fill: #1967D2;\n",
              "      height: 32px;\n",
              "      padding: 0 0 0 0;\n",
              "      width: 32px;\n",
              "    }\n",
              "\n",
              "    .colab-df-convert:hover {\n",
              "      background-color: #E2EBFA;\n",
              "      box-shadow: 0px 1px 2px rgba(60, 64, 67, 0.3), 0px 1px 3px 1px rgba(60, 64, 67, 0.15);\n",
              "      fill: #174EA6;\n",
              "    }\n",
              "\n",
              "    [theme=dark] .colab-df-convert {\n",
              "      background-color: #3B4455;\n",
              "      fill: #D2E3FC;\n",
              "    }\n",
              "\n",
              "    [theme=dark] .colab-df-convert:hover {\n",
              "      background-color: #434B5C;\n",
              "      box-shadow: 0px 1px 3px 1px rgba(0, 0, 0, 0.15);\n",
              "      filter: drop-shadow(0px 1px 2px rgba(0, 0, 0, 0.3));\n",
              "      fill: #FFFFFF;\n",
              "    }\n",
              "  </style>\n",
              "\n",
              "      <script>\n",
              "        const buttonEl =\n",
              "          document.querySelector('#df-c553a9e0-9318-4cee-a7d6-2f4032b81a88 button.colab-df-convert');\n",
              "        buttonEl.style.display =\n",
              "          google.colab.kernel.accessAllowed ? 'block' : 'none';\n",
              "\n",
              "        async function convertToInteractive(key) {\n",
              "          const element = document.querySelector('#df-c553a9e0-9318-4cee-a7d6-2f4032b81a88');\n",
              "          const dataTable =\n",
              "            await google.colab.kernel.invokeFunction('convertToInteractive',\n",
              "                                                     [key], {});\n",
              "          if (!dataTable) return;\n",
              "\n",
              "          const docLinkHtml = 'Like what you see? Visit the ' +\n",
              "            '<a target=\"_blank\" href=https://colab.research.google.com/notebooks/data_table.ipynb>data table notebook</a>'\n",
              "            + ' to learn more about interactive tables.';\n",
              "          element.innerHTML = '';\n",
              "          dataTable['output_type'] = 'display_data';\n",
              "          await google.colab.output.renderOutput(dataTable, element);\n",
              "          const docLink = document.createElement('div');\n",
              "          docLink.innerHTML = docLinkHtml;\n",
              "          element.appendChild(docLink);\n",
              "        }\n",
              "      </script>\n",
              "    </div>\n",
              "  </div>\n",
              "  "
            ]
          },
          "metadata": {},
          "execution_count": 10
        }
      ]
    },
    {
      "cell_type": "markdown",
      "source": [
        "Numero de filas y columnas"
      ],
      "metadata": {
        "id": "yIhklIoogya3"
      }
    },
    {
      "cell_type": "code",
      "source": [
        "df_persona.shape"
      ],
      "metadata": {
        "colab": {
          "base_uri": "https://localhost:8080/"
        },
        "id": "DS8jgMANe82f",
        "outputId": "7b260761-215f-448d-cb88-6b07c3ac54e6"
      },
      "execution_count": 6,
      "outputs": [
        {
          "output_type": "execute_result",
          "data": {
            "text/plain": [
              "(594191, 12)"
            ]
          },
          "metadata": {},
          "execution_count": 6
        }
      ]
    },
    {
      "cell_type": "markdown",
      "source": [
        "Tipo de datos\n"
      ],
      "metadata": {
        "id": "JWPmt8wbhGAz"
      }
    },
    {
      "cell_type": "code",
      "source": [
        "df_persona.dtypes"
      ],
      "metadata": {
        "colab": {
          "base_uri": "https://localhost:8080/"
        },
        "id": "b5Yz9aBmhTFo",
        "outputId": "a5057831-05f8-4d62-ab56-372a7c35d79b"
      },
      "execution_count": 7,
      "outputs": [
        {
          "output_type": "execute_result",
          "data": {
            "text/plain": [
              "NumIdPersona               float64\n",
              "id_empresa                   int64\n",
              "Genero                      object\n",
              "FechaNacimiento             object\n",
              "Edad                         int64\n",
              "Salario                      int64\n",
              "Categoria                   object\n",
              "Segmento_poblacional        object\n",
              "segmento_grupo_familiar     object\n",
              "DepartamentoPersona         object\n",
              "MunicipioPersona            object\n",
              "EstratoPersona             float64\n",
              "dtype: object"
            ]
          },
          "metadata": {},
          "execution_count": 7
        }
      ]
    },
    {
      "cell_type": "markdown",
      "source": [
        "Mayor y menor valor por columnas"
      ],
      "metadata": {
        "id": "Zljp4UVci9rt"
      }
    },
    {
      "cell_type": "code",
      "source": [
        "max_values = df_persona.max()\n",
        "min_values = df_persona.min()\n",
        "\n",
        "print(\"Valor máximo:\")\n",
        "print(max_values)\n",
        "\n",
        "print(\"Valor mínimo:\")\n",
        "print(min_values)\n"
      ],
      "metadata": {
        "colab": {
          "base_uri": "https://localhost:8080/"
        },
        "id": "TE-vl-u1jAyP",
        "outputId": "003848b5-214e-43a9-c918-8d160524fd0d"
      },
      "execution_count": 9,
      "outputs": [
        {
          "output_type": "stream",
          "name": "stderr",
          "text": [
            "<ipython-input-9-efd40cf5547c>:1: FutureWarning: The default value of numeric_only in DataFrame.max is deprecated. In a future version, it will default to False. In addition, specifying 'numeric_only=None' is deprecated. Select only valid columns or specify the value of numeric_only to silence this warning.\n",
            "  max_values = df_persona.max()\n"
          ]
        },
        {
          "output_type": "stream",
          "name": "stdout",
          "text": [
            "Valor máximo:\n",
            "NumIdPersona             1437512.0\n",
            "id_empresa                   74045\n",
            "Genero                   MASCULINO\n",
            "FechaNacimiento          9/12/2000\n",
            "Edad                           120\n",
            "Salario                 1550000000\n",
            "Categoria                        b\n",
            "Segmento_poblacional         Medio\n",
            "EstratoPersona                 6.0\n",
            "dtype: object\n",
            "Valor mínimo:\n",
            "NumIdPersona                  4.0\n",
            "id_empresa                      1\n",
            "Genero                          1\n",
            "FechaNacimiento         1/01/1927\n",
            "Edad                            0\n",
            "Salario                         0\n",
            "Categoria                       A\n",
            "Segmento_poblacional         Alto\n",
            "EstratoPersona                0.0\n",
            "dtype: object\n"
          ]
        },
        {
          "output_type": "stream",
          "name": "stderr",
          "text": [
            "<ipython-input-9-efd40cf5547c>:2: FutureWarning: The default value of numeric_only in DataFrame.min is deprecated. In a future version, it will default to False. In addition, specifying 'numeric_only=None' is deprecated. Select only valid columns or specify the value of numeric_only to silence this warning.\n",
            "  min_values = df_persona.min()\n"
          ]
        }
      ]
    },
    {
      "cell_type": "markdown",
      "source": [
        "Longitud de campo"
      ],
      "metadata": {
        "id": "gcqDW2lHkN-I"
      }
    },
    {
      "cell_type": "code",
      "source": [
        "longitudes = df_persona.apply(lambda x: x.astype(str).str.len())\n",
        "print(longitudes)\n"
      ],
      "metadata": {
        "colab": {
          "base_uri": "https://localhost:8080/"
        },
        "id": "a1lX1so5nklK",
        "outputId": "12955c02-8ca8-43b2-b60e-fb31616333e6"
      },
      "execution_count": 12,
      "outputs": [
        {
          "output_type": "stream",
          "name": "stdout",
          "text": [
            "        NumIdPersona  id_empresa  Genero  FechaNacimiento  Edad  Salario  \\\n",
            "0                  9           5       1                9     2        7   \n",
            "1                  8           5       1               10     2        7   \n",
            "2                  8           5       1               10     2        7   \n",
            "3                  8           5       1                9     2        7   \n",
            "4                  8           5       1               10     2        7   \n",
            "...              ...         ...     ...              ...   ...      ...   \n",
            "594186             9           5       1               10     2        6   \n",
            "594187             9           5       1                9     2        6   \n",
            "594188             9           5       1                9     2        6   \n",
            "594189             9           5       1               10     2        6   \n",
            "594190             9           5       1                9     2        6   \n",
            "\n",
            "        Categoria  Segmento_poblacional  segmento_grupo_familiar  \\\n",
            "0               1                     5                        3   \n",
            "1               1                     5                       15   \n",
            "2               1                     5                       24   \n",
            "3               1                     5                       15   \n",
            "4               1                     5                        3   \n",
            "...           ...                   ...                      ...   \n",
            "594186          1                     5                       27   \n",
            "594187          1                     6                       27   \n",
            "594188          1                     5                       27   \n",
            "594189          1                     6                       27   \n",
            "594190          1                     6                       22   \n",
            "\n",
            "        DepartamentoPersona  MunicipioPersona  EstratoPersona  \n",
            "0                         3                 3               3  \n",
            "1                        16                11               3  \n",
            "2                        16                11               3  \n",
            "3                         3                 3               3  \n",
            "4                         3                 3               3  \n",
            "...                     ...               ...             ...  \n",
            "594186                    3                 3               3  \n",
            "594187                    3                 3               3  \n",
            "594188                   16                11               3  \n",
            "594189                   16                11               3  \n",
            "594190                    3                 3               3  \n",
            "\n",
            "[594191 rows x 12 columns]\n"
          ]
        }
      ]
    },
    {
      "cell_type": "markdown",
      "source": [
        "##2.\tPrograme y genere los indicadores de calidad de las siguientes reglas:\n",
        "\n",
        "Reglas de calidad:\n"
      ],
      "metadata": {
        "id": "heyt9-NRq0h4"
      }
    },
    {
      "cell_type": "markdown",
      "source": [
        "##•\tEl campo “NumIdPersona” no admite campos vacíos"
      ],
      "metadata": {
        "id": "NqkFHG8zq6ID"
      }
    },
    {
      "cell_type": "markdown",
      "source": [
        "Verificamos si existen campos vacion en \"NumldPersona\"\n",
        "\n",
        "\n",
        "\n"
      ],
      "metadata": {
        "id": "dHziw-F2suqJ"
      }
    },
    {
      "cell_type": "code",
      "source": [
        "campos_vacios_NumIdPersona = df_persona['NumIdPersona'].isna()\n",
        "campos_vacios_NumIdPersona"
      ],
      "metadata": {
        "colab": {
          "base_uri": "https://localhost:8080/"
        },
        "id": "N9HvcHbptAqp",
        "outputId": "25cbd4e9-0b51-4633-9c74-014c59279289"
      },
      "execution_count": 17,
      "outputs": [
        {
          "output_type": "execute_result",
          "data": {
            "text/plain": [
              "0         False\n",
              "1         False\n",
              "2         False\n",
              "3         False\n",
              "4         False\n",
              "          ...  \n",
              "594186    False\n",
              "594187    False\n",
              "594188    False\n",
              "594189    False\n",
              "594190    False\n",
              "Name: NumIdPersona, Length: 594191, dtype: bool"
            ]
          },
          "metadata": {},
          "execution_count": 17
        }
      ]
    },
    {
      "cell_type": "markdown",
      "source": [
        "Calcula el número de campos vacíos en la columna 'NumIdPersona' / cantidad de fallas en NumIdPersona"
      ],
      "metadata": {
        "id": "deruTV0FtYZx"
      }
    },
    {
      "cell_type": "code",
      "source": [
        "num_campos_vacios_NumIdPersona = campos_vacios_NumIdPersona.sum()\n",
        "num_campos_vacios_NumIdPersona\n"
      ],
      "metadata": {
        "colab": {
          "base_uri": "https://localhost:8080/"
        },
        "id": "Fvh16KAFtZJ7",
        "outputId": "f686ef62-0ef0-455b-afe2-316c018ef890"
      },
      "execution_count": 20,
      "outputs": [
        {
          "output_type": "execute_result",
          "data": {
            "text/plain": [
              "178"
            ]
          },
          "metadata": {},
          "execution_count": 20
        }
      ]
    },
    {
      "cell_type": "code",
      "source": [
        "if num_campos_vacios_NumIdPersona == 0:\n",
        "    print(\"La regla 'El campo NumIdPersona no admite campos vacíos' se cumple.\")\n",
        "else:\n",
        "    print(\"La regla 'El campo NumIdPersona no admite campos vacíos' no se cumple. Se encontraron\", num_campos_vacios_NumIdPersona, \"campos vacíos.\")\n"
      ],
      "metadata": {
        "colab": {
          "base_uri": "https://localhost:8080/"
        },
        "id": "PcVzklJ2u18K",
        "outputId": "4db9dd2e-ff58-4c32-854e-73e896d43f8e"
      },
      "execution_count": 26,
      "outputs": [
        {
          "output_type": "stream",
          "name": "stdout",
          "text": [
            "La regla 'El campo NumIdPersona no admite campos vacíos' no se cumple. Se encontraron 178 campos vacíos.\n"
          ]
        }
      ]
    },
    {
      "cell_type": "markdown",
      "source": [
        "Indicador de calidad para la variable 'NumIdpersona'"
      ],
      "metadata": {
        "id": "Bfpjz9iS4Gj2"
      }
    },
    {
      "cell_type": "code",
      "source": [
        "total_registros_NumIdPersona = len(df_persona)\n",
        "print(\"Número de campos llenos en 'NumIdPersona':\", format(total_registros_NumIdPersona-num_campos_vacios_NumIdPersona,','))\n",
        "porcentaje_campos_diligenciados= ((total_registros_NumIdPersona-num_campos_vacios_NumIdPersona)/total_registros_NumIdPersona)*100\n",
        "print(\"Porcentaje de campos diligenciados en 'NumIdPersona':\", round(porcentaje_campos_diligenciados,2), \"%\")"
      ],
      "metadata": {
        "colab": {
          "base_uri": "https://localhost:8080/"
        },
        "id": "l8B5BI7MxMmi",
        "outputId": "261d0285-160e-4adc-db39-ff404f11f804"
      },
      "execution_count": 41,
      "outputs": [
        {
          "output_type": "stream",
          "name": "stdout",
          "text": [
            "Número de campos llenos en 'NumIdPersona': 594,013\n",
            "Porcentaje de campos diligenciados en 'NumIdPersona': 99.97 %\n"
          ]
        }
      ]
    },
    {
      "cell_type": "markdown",
      "source": [
        "##•\tEn el campo “Genero” solo se admite como valido los valores “F” Y “M”"
      ],
      "metadata": {
        "id": "ksYoD-AB5r5F"
      }
    },
    {
      "cell_type": "markdown",
      "source": [
        "Verificamos si existen valores distintos de 'F' y 'M' en la columna 'Genero':"
      ],
      "metadata": {
        "id": "E7v3wNDg6HZl"
      }
    },
    {
      "cell_type": "code",
      "source": [
        "valores_invalidos_genero = df_persona.loc[~df_persona['Genero'].isin(['F', 'M']), 'Genero']\n",
        "valores_invalidos_genero"
      ],
      "metadata": {
        "colab": {
          "base_uri": "https://localhost:8080/"
        },
        "id": "EWNhP4_n5skd",
        "outputId": "58f8d867-9360-4b18-d8b8-b479992a502f"
      },
      "execution_count": 51,
      "outputs": [
        {
          "output_type": "execute_result",
          "data": {
            "text/plain": [
              "7         MASCULINO\n",
              "2739              1\n",
              "85689      FEMENINO\n",
              "196658     FEMENINO\n",
              "196659     FEMENINO\n",
              "            ...    \n",
              "538945     FEMENINO\n",
              "538946     FEMENINO\n",
              "538947     FEMENINO\n",
              "538948     FEMENINO\n",
              "538949     FEMENINO\n",
              "Name: Genero, Length: 28850, dtype: object"
            ]
          },
          "metadata": {},
          "execution_count": 51
        }
      ]
    },
    {
      "cell_type": "markdown",
      "source": [
        "Calculamos el número de valores inválidos en la columna 'Genero':"
      ],
      "metadata": {
        "id": "nRGuA3hS6bRD"
      }
    },
    {
      "cell_type": "code",
      "source": [
        "num_valores_invalidos_genero = len(valores_invalidos)\n",
        "num_valores_invalidos_genero"
      ],
      "metadata": {
        "colab": {
          "base_uri": "https://localhost:8080/"
        },
        "id": "ELL75HPo6cGD",
        "outputId": "5f912fe6-9c46-4311-c82f-1389253e2aa2"
      },
      "execution_count": 52,
      "outputs": [
        {
          "output_type": "execute_result",
          "data": {
            "text/plain": [
              "28850"
            ]
          },
          "metadata": {},
          "execution_count": 52
        }
      ]
    },
    {
      "cell_type": "markdown",
      "source": [
        "Generamos el indicador de calidad para la regla:"
      ],
      "metadata": {
        "id": "yX6EdrJ68VKR"
      }
    },
    {
      "cell_type": "code",
      "source": [
        "if num_valores_invalidos == 0:\n",
        "    print(\"En el campo “Genero” solo se admite como valido los valores “F” Y “M” ' se cumple.\")\n",
        "else:\n",
        "    print(\"En el campo “Genero” solo se admite como valido los valores “F” Y “M” ' no cumple. Se encontraron\", format(num_valores_invalidos,','), \"campos invalidos.\")"
      ],
      "metadata": {
        "colab": {
          "base_uri": "https://localhost:8080/"
        },
        "id": "JCVLbnBB8oI6",
        "outputId": "f639a6ad-d298-4732-fece-426af3b16f0f"
      },
      "execution_count": 53,
      "outputs": [
        {
          "output_type": "stream",
          "name": "stdout",
          "text": [
            "En el campo “Genero” solo se admite como valido los valores “F” Y “M” ' no cumple. Se encontraron 28,850 campos invalidos.\n"
          ]
        }
      ]
    },
    {
      "cell_type": "markdown",
      "source": [
        "Indicador de calidad para la variable 'Genero'"
      ],
      "metadata": {
        "id": "EAIw_Scj_Ymz"
      }
    },
    {
      "cell_type": "code",
      "source": [
        "total_registros_genero = len(df_persona)\n",
        "print(\"Número de campos validos en la columna 'Genero':\", format(total_registros_genero-num_valores_invalidos_genero,','))\n",
        "porcentaje_campos_validos_genero= ((total_registros_genero-num_valores_invalidos_genero)/total_registros_genero)*100\n",
        "print(\"Porcentaje de campos validos en la columna 'Genero':\", round(porcentaje_campos_validos_genero,2), \"%\")"
      ],
      "metadata": {
        "colab": {
          "base_uri": "https://localhost:8080/"
        },
        "id": "BBkDIKNU_ZoQ",
        "outputId": "2f8a4010-549b-40ea-b0b1-71d63e388526"
      },
      "execution_count": 55,
      "outputs": [
        {
          "output_type": "stream",
          "name": "stdout",
          "text": [
            "Número de campos validos en la columna 'Genero': 565,341\n",
            "Porcentaje de campos validos en la columna 'Genero': 95.14 %\n"
          ]
        }
      ]
    },
    {
      "cell_type": "markdown",
      "source": [
        "##\tEn el campo “Segmento_poblacional” solo se permiten las siguientes opciones: Alto, Básico, Joven y Medio\n"
      ],
      "metadata": {
        "id": "L1-1Eg_bB_Ak"
      }
    },
    {
      "cell_type": "markdown",
      "source": [
        "Verificamos si existen valores distintos de las opciones permitidas en la columna 'Segmento_poblacional'"
      ],
      "metadata": {
        "id": "LaF8JbsODVwH"
      }
    },
    {
      "cell_type": "code",
      "source": [
        "valores_invalidos_Segmento_poblacional = df_persona.loc[~df_persona['Segmento_poblacional'].isin(['Alto', 'Básico', 'Joven', 'Medio']), 'Segmento_poblacional']\n",
        "valores_invalidos_Segmento_poblacional"
      ],
      "metadata": {
        "colab": {
          "base_uri": "https://localhost:8080/"
        },
        "id": "OfA-qaRKCuVr",
        "outputId": "81a4998f-43dc-47bf-d3fd-39a94e197b75"
      },
      "execution_count": 59,
      "outputs": [
        {
          "output_type": "execute_result",
          "data": {
            "text/plain": [
              "11        Basico\n",
              "14        Basico\n",
              "16        Basico\n",
              "17        Basico\n",
              "20        Basico\n",
              "           ...  \n",
              "594184    Basico\n",
              "594185    Basico\n",
              "594187    Basico\n",
              "594189    Basico\n",
              "594190    Basico\n",
              "Name: Segmento_poblacional, Length: 251425, dtype: object"
            ]
          },
          "metadata": {},
          "execution_count": 59
        }
      ]
    },
    {
      "cell_type": "markdown",
      "source": [
        "Calcula el número de valores inválidos en la columna 'Segmento_poblacional':"
      ],
      "metadata": {
        "id": "bgREYEKWD9sA"
      }
    },
    {
      "cell_type": "code",
      "source": [
        "num_valores_invalidos_Segmento_poblacional = len(valores_invalidos_Segmento_poblacional)\n",
        "num_valores_invalidos_Segmento_poblacional"
      ],
      "metadata": {
        "colab": {
          "base_uri": "https://localhost:8080/"
        },
        "id": "U2v-yPTOEAa0",
        "outputId": "e3459bc3-ceb6-4e24-d577-cb6dfe909af4"
      },
      "execution_count": 62,
      "outputs": [
        {
          "output_type": "execute_result",
          "data": {
            "text/plain": [
              "251425"
            ]
          },
          "metadata": {},
          "execution_count": 62
        }
      ]
    },
    {
      "cell_type": "code",
      "source": [
        "indicador_calidad_Segmento_poblacional = \"Cumple\" if num_valores_invalidos_Segmento_poblacional == 0 else \"No cumple\"\n",
        "indicador_calidad_Segmento_poblacional"
      ],
      "metadata": {
        "colab": {
          "base_uri": "https://localhost:8080/",
          "height": 35
        },
        "id": "D9NAExlsEw8R",
        "outputId": "7a75e1df-eddc-43f2-d920-524821d6fb6e"
      },
      "execution_count": 63,
      "outputs": [
        {
          "output_type": "execute_result",
          "data": {
            "text/plain": [
              "'No cumple'"
            ],
            "application/vnd.google.colaboratory.intrinsic+json": {
              "type": "string"
            }
          },
          "metadata": {},
          "execution_count": 63
        }
      ]
    },
    {
      "cell_type": "markdown",
      "source": [
        "Generamos el indicador de calidad para la regla:"
      ],
      "metadata": {
        "id": "N7YwTWWcFwyn"
      }
    },
    {
      "cell_type": "code",
      "source": [
        "total_registros_segmento_poblacional = len(df_persona)\n",
        "print(\"Número de campos validos en la columna 'Segmento poblacional':\", format(total_registros_segmento_poblacional-num_valores_invalidos_Segmento_poblacional,','))\n",
        "porcentaje_campos_validos_segmento_poblacional= ((total_registros_segmento_poblacional-num_valores_invalidos_Segmento_poblacional)/total_registros_segmento_poblacional)*100\n",
        "print(\"Porcentaje de campos validos en la columna 'Segmento poblacional':\", round(porcentaje_campos_validos_segmento_poblacional,2), \"%\")"
      ],
      "metadata": {
        "colab": {
          "base_uri": "https://localhost:8080/"
        },
        "id": "I5CdXJuvFybi",
        "outputId": "77dfd2f8-6566-414f-8ba3-cd8f3bc5450e"
      },
      "execution_count": 64,
      "outputs": [
        {
          "output_type": "stream",
          "name": "stdout",
          "text": [
            "Número de campos validos en la columna 'Segmento poblacional': 342,766\n",
            "Porcentaje de campos validos en la columna 'Segmento poblacional': 57.69 %\n"
          ]
        }
      ]
    },
    {
      "cell_type": "markdown",
      "source": [
        "Los errores generados para esta columna son en la palabra \"Básico\" y en la base datos compartida \"Basico\", sin tilde , esto genera que 251.425 datos se encuentren invalidos  "
      ],
      "metadata": {
        "id": "cabmhOTgHojv"
      }
    },
    {
      "cell_type": "markdown",
      "source": [
        "##\tEn el campo edad no se admite el valor 0 y tampoco puede tener más de 2 caracteres"
      ],
      "metadata": {
        "id": "yoFnC_O8ICS_"
      }
    },
    {
      "cell_type": "markdown",
      "source": [
        "Verificamos si existen valores igual a 0 en la columna 'Edad'"
      ],
      "metadata": {
        "id": "StX6H5QfKS9S"
      }
    },
    {
      "cell_type": "code",
      "source": [
        "valores_cero_edad = df_persona.loc[df_persona['Edad'] == 0, 'Edad']\n",
        "valores_cero_edad"
      ],
      "metadata": {
        "colab": {
          "base_uri": "https://localhost:8080/"
        },
        "id": "6IbJnGfzKWGI",
        "outputId": "b5002ef0-c7ca-4685-8acf-54e94105841b"
      },
      "execution_count": 66,
      "outputs": [
        {
          "output_type": "execute_result",
          "data": {
            "text/plain": [
              "38        0\n",
              "77        0\n",
              "78        0\n",
              "99        0\n",
              "100       0\n",
              "101       0\n",
              "102       0\n",
              "103       0\n",
              "104       0\n",
              "105       0\n",
              "135       0\n",
              "136       0\n",
              "162       0\n",
              "195       0\n",
              "165753    0\n",
              "165921    0\n",
              "167691    0\n",
              "170399    0\n",
              "173787    0\n",
              "176404    0\n",
              "181568    0\n",
              "183153    0\n",
              "345549    0\n",
              "347464    0\n",
              "349265    0\n",
              "350991    0\n",
              "353304    0\n",
              "480397    0\n",
              "482759    0\n",
              "484819    0\n",
              "Name: Edad, dtype: int64"
            ]
          },
          "metadata": {},
          "execution_count": 66
        }
      ]
    },
    {
      "cell_type": "markdown",
      "source": [
        "Calculamos el número de valores igual a 0 en la columna 'Edad'"
      ],
      "metadata": {
        "id": "LdvpEKptKj4B"
      }
    },
    {
      "cell_type": "code",
      "source": [
        "num_valores_cero_edad = len(valores_cero_edad)\n",
        "num_valores_cero_edad"
      ],
      "metadata": {
        "colab": {
          "base_uri": "https://localhost:8080/"
        },
        "id": "7OjfAGffKpOY",
        "outputId": "18f0ad0a-e726-4d36-c04c-cc315f9e9138"
      },
      "execution_count": 67,
      "outputs": [
        {
          "output_type": "execute_result",
          "data": {
            "text/plain": [
              "30"
            ]
          },
          "metadata": {},
          "execution_count": 67
        }
      ]
    },
    {
      "cell_type": "markdown",
      "source": [
        "Verificamos si existen valores con más de 2 caracteres en la columna 'Edad'"
      ],
      "metadata": {
        "id": "uWDY6PNSK5Ee"
      }
    },
    {
      "cell_type": "code",
      "source": [
        "valores_largos_edad = df_persona.loc[df_persona['Edad'].astype(str).str.len() > 2, 'Edad']\n",
        "valores_largos_edad"
      ],
      "metadata": {
        "colab": {
          "base_uri": "https://localhost:8080/"
        },
        "id": "odv9bwTAK9oB",
        "outputId": "27ccf3a1-60ee-4602-ef18-051843ff35ac"
      },
      "execution_count": 69,
      "outputs": [
        {
          "output_type": "execute_result",
          "data": {
            "text/plain": [
              "223       101\n",
              "224       102\n",
              "225       103\n",
              "226       104\n",
              "227       105\n",
              "         ... \n",
              "484843    114\n",
              "484844    115\n",
              "515428    108\n",
              "515442    102\n",
              "515492    105\n",
              "Name: Edad, Length: 308, dtype: int64"
            ]
          },
          "metadata": {},
          "execution_count": 69
        }
      ]
    },
    {
      "cell_type": "markdown",
      "source": [
        "Calculamos el número de valores con más de 2 caracteres en la columna 'Edad'"
      ],
      "metadata": {
        "id": "Qt9_PoGWLOZw"
      }
    },
    {
      "cell_type": "code",
      "source": [
        "num_valores_largos_edad = len(valores_largos_edad)\n",
        "num_valores_largos_edad"
      ],
      "metadata": {
        "colab": {
          "base_uri": "https://localhost:8080/"
        },
        "id": "q0S8sv0WLQUa",
        "outputId": "26e09344-e2a0-42b5-d6df-8fe188941a62"
      },
      "execution_count": 70,
      "outputs": [
        {
          "output_type": "execute_result",
          "data": {
            "text/plain": [
              "308"
            ]
          },
          "metadata": {},
          "execution_count": 70
        }
      ]
    },
    {
      "cell_type": "code",
      "source": [
        "indicador_calidad_edad = \"Cumple\" if num_valores_cero_edad == 0 and num_valores_largos_edad == 0 else \"No cumple\"\n",
        "indicador_calidad_edad"
      ],
      "metadata": {
        "colab": {
          "base_uri": "https://localhost:8080/",
          "height": 35
        },
        "id": "a0gEvCdPLcCE",
        "outputId": "937c9651-2295-4c93-9d58-8d55b6c4c51d"
      },
      "execution_count": 72,
      "outputs": [
        {
          "output_type": "execute_result",
          "data": {
            "text/plain": [
              "'No cumple'"
            ],
            "application/vnd.google.colaboratory.intrinsic+json": {
              "type": "string"
            }
          },
          "metadata": {},
          "execution_count": 72
        }
      ]
    },
    {
      "cell_type": "code",
      "source": [
        "print(\"Indicador de calidad para la regla 'En el campo Edad no se admite el valor 0 y tampoco puede tener más de 2 caracteres':\", indicador_calidad)\n",
        "\n",
        "if num_valores_cero_edad > 0:\n",
        "    print(\"Valores igual a 0 encontrados en la columna Edad:\")\n",
        "    print(num_valores_cero_edad)\n",
        "\n",
        "if num_valores_largos_edad > 0:\n",
        "    print(\"Valores con más de 2 caracteres encontrados en la columna Edad:\")\n",
        "    print(num_valores_largos_edad)\n"
      ],
      "metadata": {
        "colab": {
          "base_uri": "https://localhost:8080/"
        },
        "id": "lXVMKkt2Ma8A",
        "outputId": "ff1c440c-e889-4a39-b47d-04cfb4b3300b"
      },
      "execution_count": 77,
      "outputs": [
        {
          "output_type": "stream",
          "name": "stdout",
          "text": [
            "Indicador de calidad para la regla 'En el campo Edad no se admite el valor 0 y tampoco puede tener más de 2 caracteres': No cumple\n",
            "Valores igual a 0 encontrados en la columna Edad:\n",
            "30\n",
            "Valores con más de 2 caracteres encontrados en la columna Edad:\n",
            "308\n"
          ]
        }
      ]
    },
    {
      "cell_type": "markdown",
      "source": [
        "Generamos el indicador de calidad para la regla:"
      ],
      "metadata": {
        "id": "X5AKisTfN1I1"
      }
    },
    {
      "cell_type": "code",
      "source": [
        "total_registros_edad = len(df_persona)\n",
        "print(\"Número de campos validos en la columna 'edad':\", format(total_registros_edad-(num_valores_cero_edad+num_valores_largos_edad),','))\n",
        "porcentaje_campos_validos_edad= ((total_registros_edad-(num_valores_cero_edad+num_valores_largos_edad))/total_registros_edad)*100\n",
        "print(\"Porcentaje de campos validos en la columna 'edad':\", round(porcentaje_campos_validos_edad,2), \"%\")"
      ],
      "metadata": {
        "colab": {
          "base_uri": "https://localhost:8080/"
        },
        "id": "25ozFabEN-tr",
        "outputId": "2e134ee2-ed90-441b-d5c5-f02a74a13e51"
      },
      "execution_count": 78,
      "outputs": [
        {
          "output_type": "stream",
          "name": "stdout",
          "text": [
            "Número de campos validos en la columna 'edad': 593,853\n",
            "Porcentaje de campos validos en la columna 'edad': 99.94 %\n"
          ]
        }
      ]
    },
    {
      "cell_type": "markdown",
      "source": [
        "## Regla de negocio:\n",
        "De acuerdo con el campo “Categoria” solo se permiten las siguientes opciones en el campo “Segmento_poblacional”\n"
      ],
      "metadata": {
        "id": "6TNDqNi3Ueey"
      }
    },
    {
      "cell_type": "markdown",
      "source": [
        "Este diccionario asocia cada categoría con una lista de opciones permitidas para el campo 'Segmento_poblacional'."
      ],
      "metadata": {
        "id": "BFNTahgoVAtP"
      }
    },
    {
      "cell_type": "code",
      "source": [
        "opciones_permitidas_categoria = {\n",
        "    'A': ['Básico', 'Joven', 'Medio'],\n",
        "    'B': ['Joven', 'Medio'],\n",
        "    'C': ['Alto', 'Joven', 'Medio']\n",
        "}\n",
        "\n",
        "combinaciones_invalidas_categoria = df_persona.loc[~df_persona.apply(lambda x: x['Segmento_poblacional'] in opciones_permitidas_categoria.get(x['Categoria'], []), axis=1)]\n",
        "combinaciones_invalidas_categoria"
      ],
      "metadata": {
        "colab": {
          "base_uri": "https://localhost:8080/",
          "height": 592
        },
        "id": "CSNxdVmLfAbW",
        "outputId": "55d9bba3-d588-4984-c9b4-b0e67102e482"
      },
      "execution_count": 108,
      "outputs": [
        {
          "output_type": "execute_result",
          "data": {
            "text/plain": [
              "        NumIdPersona  id_empresa Genero FechaNacimiento  Edad  Salario  \\\n",
              "0          1174205.0       56353      F       1/01/1968    52  1800000   \n",
              "2           809497.0       13922      M      24/10/1929    89  2052757   \n",
              "3           849342.0       15448      M       5/11/1930    88  2331227   \n",
              "4           896732.0       17649      M      11/11/1928    90  2372000   \n",
              "6          1426305.0       40594      M       9/06/1929    90  1663150   \n",
              "...              ...         ...    ...             ...   ...      ...   \n",
              "594184     1430336.0          29      F       4/01/1990    30   828116   \n",
              "594185     1430347.0       58502      M      17/09/1990    29   828116   \n",
              "594187     1430632.0       59092      M       4/03/1989    30   828116   \n",
              "594189     1431565.0       41484      F      28/07/1995    24   828116   \n",
              "594190     1437508.0       45740      M       3/10/1974    45   877803   \n",
              "\n",
              "       Categoria Segmento_poblacional      segmento_grupo_familiar  \\\n",
              "0              b                Medio                          NaN   \n",
              "2              b                Medio     FAMILIA NUCLEAR INTEGRAL   \n",
              "3              b                Medio              PAREJA CONYUGAL   \n",
              "4              b                Medio                          NaN   \n",
              "6              b                Medio              PAREJA CONYUGAL   \n",
              "...          ...                  ...                          ...   \n",
              "594184         A               Basico  AFILIADO SIN GRUPO FAMILIAR   \n",
              "594185         A               Basico  AFILIADO SIN GRUPO FAMILIAR   \n",
              "594187         A               Basico  AFILIADO SIN GRUPO FAMILIAR   \n",
              "594189         A               Basico  AFILIADO SIN GRUPO FAMILIAR   \n",
              "594190         A               Basico       FAMILIA MONOPARENTERAL   \n",
              "\n",
              "       DepartamentoPersona MunicipioPersona  EstratoPersona  \n",
              "0                      NaN              NaN             NaN  \n",
              "2         DISTRITO CAPITAL      BOGOTA D.C.             5.0  \n",
              "3                      NaN              NaN             NaN  \n",
              "4                      NaN              NaN             NaN  \n",
              "6                      NaN              NaN             NaN  \n",
              "...                    ...              ...             ...  \n",
              "594184                 NaN              NaN             NaN  \n",
              "594185    DISTRITO CAPITAL      BOGOTA D.C.             3.0  \n",
              "594187                 NaN              NaN             NaN  \n",
              "594189    DISTRITO CAPITAL      BOGOTA D.C.             NaN  \n",
              "594190                 NaN              NaN             NaN  \n",
              "\n",
              "[360134 rows x 12 columns]"
            ],
            "text/html": [
              "\n",
              "  <div id=\"df-ba967b1c-3c2e-4266-a98a-ebf785f3d136\">\n",
              "    <div class=\"colab-df-container\">\n",
              "      <div>\n",
              "<style scoped>\n",
              "    .dataframe tbody tr th:only-of-type {\n",
              "        vertical-align: middle;\n",
              "    }\n",
              "\n",
              "    .dataframe tbody tr th {\n",
              "        vertical-align: top;\n",
              "    }\n",
              "\n",
              "    .dataframe thead th {\n",
              "        text-align: right;\n",
              "    }\n",
              "</style>\n",
              "<table border=\"1\" class=\"dataframe\">\n",
              "  <thead>\n",
              "    <tr style=\"text-align: right;\">\n",
              "      <th></th>\n",
              "      <th>NumIdPersona</th>\n",
              "      <th>id_empresa</th>\n",
              "      <th>Genero</th>\n",
              "      <th>FechaNacimiento</th>\n",
              "      <th>Edad</th>\n",
              "      <th>Salario</th>\n",
              "      <th>Categoria</th>\n",
              "      <th>Segmento_poblacional</th>\n",
              "      <th>segmento_grupo_familiar</th>\n",
              "      <th>DepartamentoPersona</th>\n",
              "      <th>MunicipioPersona</th>\n",
              "      <th>EstratoPersona</th>\n",
              "    </tr>\n",
              "  </thead>\n",
              "  <tbody>\n",
              "    <tr>\n",
              "      <th>0</th>\n",
              "      <td>1174205.0</td>\n",
              "      <td>56353</td>\n",
              "      <td>F</td>\n",
              "      <td>1/01/1968</td>\n",
              "      <td>52</td>\n",
              "      <td>1800000</td>\n",
              "      <td>b</td>\n",
              "      <td>Medio</td>\n",
              "      <td>NaN</td>\n",
              "      <td>NaN</td>\n",
              "      <td>NaN</td>\n",
              "      <td>NaN</td>\n",
              "    </tr>\n",
              "    <tr>\n",
              "      <th>2</th>\n",
              "      <td>809497.0</td>\n",
              "      <td>13922</td>\n",
              "      <td>M</td>\n",
              "      <td>24/10/1929</td>\n",
              "      <td>89</td>\n",
              "      <td>2052757</td>\n",
              "      <td>b</td>\n",
              "      <td>Medio</td>\n",
              "      <td>FAMILIA NUCLEAR INTEGRAL</td>\n",
              "      <td>DISTRITO CAPITAL</td>\n",
              "      <td>BOGOTA D.C.</td>\n",
              "      <td>5.0</td>\n",
              "    </tr>\n",
              "    <tr>\n",
              "      <th>3</th>\n",
              "      <td>849342.0</td>\n",
              "      <td>15448</td>\n",
              "      <td>M</td>\n",
              "      <td>5/11/1930</td>\n",
              "      <td>88</td>\n",
              "      <td>2331227</td>\n",
              "      <td>b</td>\n",
              "      <td>Medio</td>\n",
              "      <td>PAREJA CONYUGAL</td>\n",
              "      <td>NaN</td>\n",
              "      <td>NaN</td>\n",
              "      <td>NaN</td>\n",
              "    </tr>\n",
              "    <tr>\n",
              "      <th>4</th>\n",
              "      <td>896732.0</td>\n",
              "      <td>17649</td>\n",
              "      <td>M</td>\n",
              "      <td>11/11/1928</td>\n",
              "      <td>90</td>\n",
              "      <td>2372000</td>\n",
              "      <td>b</td>\n",
              "      <td>Medio</td>\n",
              "      <td>NaN</td>\n",
              "      <td>NaN</td>\n",
              "      <td>NaN</td>\n",
              "      <td>NaN</td>\n",
              "    </tr>\n",
              "    <tr>\n",
              "      <th>6</th>\n",
              "      <td>1426305.0</td>\n",
              "      <td>40594</td>\n",
              "      <td>M</td>\n",
              "      <td>9/06/1929</td>\n",
              "      <td>90</td>\n",
              "      <td>1663150</td>\n",
              "      <td>b</td>\n",
              "      <td>Medio</td>\n",
              "      <td>PAREJA CONYUGAL</td>\n",
              "      <td>NaN</td>\n",
              "      <td>NaN</td>\n",
              "      <td>NaN</td>\n",
              "    </tr>\n",
              "    <tr>\n",
              "      <th>...</th>\n",
              "      <td>...</td>\n",
              "      <td>...</td>\n",
              "      <td>...</td>\n",
              "      <td>...</td>\n",
              "      <td>...</td>\n",
              "      <td>...</td>\n",
              "      <td>...</td>\n",
              "      <td>...</td>\n",
              "      <td>...</td>\n",
              "      <td>...</td>\n",
              "      <td>...</td>\n",
              "      <td>...</td>\n",
              "    </tr>\n",
              "    <tr>\n",
              "      <th>594184</th>\n",
              "      <td>1430336.0</td>\n",
              "      <td>29</td>\n",
              "      <td>F</td>\n",
              "      <td>4/01/1990</td>\n",
              "      <td>30</td>\n",
              "      <td>828116</td>\n",
              "      <td>A</td>\n",
              "      <td>Basico</td>\n",
              "      <td>AFILIADO SIN GRUPO FAMILIAR</td>\n",
              "      <td>NaN</td>\n",
              "      <td>NaN</td>\n",
              "      <td>NaN</td>\n",
              "    </tr>\n",
              "    <tr>\n",
              "      <th>594185</th>\n",
              "      <td>1430347.0</td>\n",
              "      <td>58502</td>\n",
              "      <td>M</td>\n",
              "      <td>17/09/1990</td>\n",
              "      <td>29</td>\n",
              "      <td>828116</td>\n",
              "      <td>A</td>\n",
              "      <td>Basico</td>\n",
              "      <td>AFILIADO SIN GRUPO FAMILIAR</td>\n",
              "      <td>DISTRITO CAPITAL</td>\n",
              "      <td>BOGOTA D.C.</td>\n",
              "      <td>3.0</td>\n",
              "    </tr>\n",
              "    <tr>\n",
              "      <th>594187</th>\n",
              "      <td>1430632.0</td>\n",
              "      <td>59092</td>\n",
              "      <td>M</td>\n",
              "      <td>4/03/1989</td>\n",
              "      <td>30</td>\n",
              "      <td>828116</td>\n",
              "      <td>A</td>\n",
              "      <td>Basico</td>\n",
              "      <td>AFILIADO SIN GRUPO FAMILIAR</td>\n",
              "      <td>NaN</td>\n",
              "      <td>NaN</td>\n",
              "      <td>NaN</td>\n",
              "    </tr>\n",
              "    <tr>\n",
              "      <th>594189</th>\n",
              "      <td>1431565.0</td>\n",
              "      <td>41484</td>\n",
              "      <td>F</td>\n",
              "      <td>28/07/1995</td>\n",
              "      <td>24</td>\n",
              "      <td>828116</td>\n",
              "      <td>A</td>\n",
              "      <td>Basico</td>\n",
              "      <td>AFILIADO SIN GRUPO FAMILIAR</td>\n",
              "      <td>DISTRITO CAPITAL</td>\n",
              "      <td>BOGOTA D.C.</td>\n",
              "      <td>NaN</td>\n",
              "    </tr>\n",
              "    <tr>\n",
              "      <th>594190</th>\n",
              "      <td>1437508.0</td>\n",
              "      <td>45740</td>\n",
              "      <td>M</td>\n",
              "      <td>3/10/1974</td>\n",
              "      <td>45</td>\n",
              "      <td>877803</td>\n",
              "      <td>A</td>\n",
              "      <td>Basico</td>\n",
              "      <td>FAMILIA MONOPARENTERAL</td>\n",
              "      <td>NaN</td>\n",
              "      <td>NaN</td>\n",
              "      <td>NaN</td>\n",
              "    </tr>\n",
              "  </tbody>\n",
              "</table>\n",
              "<p>360134 rows × 12 columns</p>\n",
              "</div>\n",
              "      <button class=\"colab-df-convert\" onclick=\"convertToInteractive('df-ba967b1c-3c2e-4266-a98a-ebf785f3d136')\"\n",
              "              title=\"Convert this dataframe to an interactive table.\"\n",
              "              style=\"display:none;\">\n",
              "        \n",
              "  <svg xmlns=\"http://www.w3.org/2000/svg\" height=\"24px\"viewBox=\"0 0 24 24\"\n",
              "       width=\"24px\">\n",
              "    <path d=\"M0 0h24v24H0V0z\" fill=\"none\"/>\n",
              "    <path d=\"M18.56 5.44l.94 2.06.94-2.06 2.06-.94-2.06-.94-.94-2.06-.94 2.06-2.06.94zm-11 1L8.5 8.5l.94-2.06 2.06-.94-2.06-.94L8.5 2.5l-.94 2.06-2.06.94zm10 10l.94 2.06.94-2.06 2.06-.94-2.06-.94-.94-2.06-.94 2.06-2.06.94z\"/><path d=\"M17.41 7.96l-1.37-1.37c-.4-.4-.92-.59-1.43-.59-.52 0-1.04.2-1.43.59L10.3 9.45l-7.72 7.72c-.78.78-.78 2.05 0 2.83L4 21.41c.39.39.9.59 1.41.59.51 0 1.02-.2 1.41-.59l7.78-7.78 2.81-2.81c.8-.78.8-2.07 0-2.86zM5.41 20L4 18.59l7.72-7.72 1.47 1.35L5.41 20z\"/>\n",
              "  </svg>\n",
              "      </button>\n",
              "      \n",
              "  <style>\n",
              "    .colab-df-container {\n",
              "      display:flex;\n",
              "      flex-wrap:wrap;\n",
              "      gap: 12px;\n",
              "    }\n",
              "\n",
              "    .colab-df-convert {\n",
              "      background-color: #E8F0FE;\n",
              "      border: none;\n",
              "      border-radius: 50%;\n",
              "      cursor: pointer;\n",
              "      display: none;\n",
              "      fill: #1967D2;\n",
              "      height: 32px;\n",
              "      padding: 0 0 0 0;\n",
              "      width: 32px;\n",
              "    }\n",
              "\n",
              "    .colab-df-convert:hover {\n",
              "      background-color: #E2EBFA;\n",
              "      box-shadow: 0px 1px 2px rgba(60, 64, 67, 0.3), 0px 1px 3px 1px rgba(60, 64, 67, 0.15);\n",
              "      fill: #174EA6;\n",
              "    }\n",
              "\n",
              "    [theme=dark] .colab-df-convert {\n",
              "      background-color: #3B4455;\n",
              "      fill: #D2E3FC;\n",
              "    }\n",
              "\n",
              "    [theme=dark] .colab-df-convert:hover {\n",
              "      background-color: #434B5C;\n",
              "      box-shadow: 0px 1px 3px 1px rgba(0, 0, 0, 0.15);\n",
              "      filter: drop-shadow(0px 1px 2px rgba(0, 0, 0, 0.3));\n",
              "      fill: #FFFFFF;\n",
              "    }\n",
              "  </style>\n",
              "\n",
              "      <script>\n",
              "        const buttonEl =\n",
              "          document.querySelector('#df-ba967b1c-3c2e-4266-a98a-ebf785f3d136 button.colab-df-convert');\n",
              "        buttonEl.style.display =\n",
              "          google.colab.kernel.accessAllowed ? 'block' : 'none';\n",
              "\n",
              "        async function convertToInteractive(key) {\n",
              "          const element = document.querySelector('#df-ba967b1c-3c2e-4266-a98a-ebf785f3d136');\n",
              "          const dataTable =\n",
              "            await google.colab.kernel.invokeFunction('convertToInteractive',\n",
              "                                                     [key], {});\n",
              "          if (!dataTable) return;\n",
              "\n",
              "          const docLinkHtml = 'Like what you see? Visit the ' +\n",
              "            '<a target=\"_blank\" href=https://colab.research.google.com/notebooks/data_table.ipynb>data table notebook</a>'\n",
              "            + ' to learn more about interactive tables.';\n",
              "          element.innerHTML = '';\n",
              "          dataTable['output_type'] = 'display_data';\n",
              "          await google.colab.output.renderOutput(dataTable, element);\n",
              "          const docLink = document.createElement('div');\n",
              "          docLink.innerHTML = docLinkHtml;\n",
              "          element.appendChild(docLink);\n",
              "        }\n",
              "      </script>\n",
              "    </div>\n",
              "  </div>\n",
              "  "
            ]
          },
          "metadata": {},
          "execution_count": 108
        }
      ]
    },
    {
      "cell_type": "markdown",
      "source": [
        "Este código verifica si cada combinación de 'CATEGORIA' y 'SEGMENTO_POBLACIONAL' cumple con las opciones permitidas. Las combinaciones inválidas se almacenarán en el DataFrame 'combinaciones_invalidas_categoria'."
      ],
      "metadata": {
        "id": "9tzmUxXEfn9o"
      }
    },
    {
      "cell_type": "markdown",
      "source": [
        "Calculamos el número de combinaciones no válidas:"
      ],
      "metadata": {
        "id": "JlHO-oFTbuKF"
      }
    },
    {
      "cell_type": "code",
      "source": [
        "num_combinaciones_invalidas_categoria = len(combinaciones_invalidas_categoria)\n",
        "num_combinaciones_invalidas_categoria"
      ],
      "metadata": {
        "colab": {
          "base_uri": "https://localhost:8080/"
        },
        "id": "J-qL_tvgbwXz",
        "outputId": "1c797026-edd4-4680-d74a-b3041266e244"
      },
      "execution_count": 109,
      "outputs": [
        {
          "output_type": "execute_result",
          "data": {
            "text/plain": [
              "360134"
            ]
          },
          "metadata": {},
          "execution_count": 109
        }
      ]
    },
    {
      "cell_type": "code",
      "source": [
        "indicador_calidad_categoria = \"Cumple\" if num_combinaciones_invalidas_categoria == 0 else \"No cumple\"\n",
        "indicador_calidad_categoria"
      ],
      "metadata": {
        "colab": {
          "base_uri": "https://localhost:8080/",
          "height": 35
        },
        "id": "fSiGiMoib73o",
        "outputId": "e4fd6ab1-7620-4642-986e-7e5795e9272b"
      },
      "execution_count": 110,
      "outputs": [
        {
          "output_type": "execute_result",
          "data": {
            "text/plain": [
              "'No cumple'"
            ],
            "application/vnd.google.colaboratory.intrinsic+json": {
              "type": "string"
            }
          },
          "metadata": {},
          "execution_count": 110
        }
      ]
    },
    {
      "cell_type": "code",
      "source": [
        "print(\"Indicador de calidad para la regla 'De acuerdo con el campo Categoria solo se permiten las siguientes opciones en el campo Segmento_poblacional':\", indicador_calidad_categoria)\n",
        "\n",
        "if num_combinaciones_invalidas_categoria > 0:\n",
        "    print(\"Combinaciones no válidas encontradas:\")\n",
        "    print(combinaciones_invalidas_categoria[['Categoria', 'Segmento_poblacional']])\n"
      ],
      "metadata": {
        "colab": {
          "base_uri": "https://localhost:8080/"
        },
        "id": "qGwiujMZcF66",
        "outputId": "cabb70d2-b539-4498-a2f9-80bc2ff76a15"
      },
      "execution_count": 111,
      "outputs": [
        {
          "output_type": "stream",
          "name": "stdout",
          "text": [
            "Indicador de calidad para la regla 'De acuerdo con el campo Categoria solo se permiten las siguientes opciones en el campo Segmento_poblacional': No cumple\n",
            "Combinaciones no válidas encontradas:\n",
            "       Categoria Segmento_poblacional\n",
            "0              b                Medio\n",
            "2              b                Medio\n",
            "3              b                Medio\n",
            "4              b                Medio\n",
            "6              b                Medio\n",
            "...          ...                  ...\n",
            "594184         A               Basico\n",
            "594185         A               Basico\n",
            "594187         A               Basico\n",
            "594189         A               Basico\n",
            "594190         A               Basico\n",
            "\n",
            "[360134 rows x 2 columns]\n"
          ]
        }
      ]
    },
    {
      "cell_type": "markdown",
      "source": [
        "Imprimimos  el indicador de calidad y las combinaciones no válidas si corresponde:"
      ],
      "metadata": {
        "id": "BIb_z5ebb5ER"
      }
    },
    {
      "cell_type": "code",
      "source": [
        "total_registros_categoria = len(df_persona)\n",
        "print(\"Número de campos con conbinaciones validas:\", format(total_registros_categoria-num_combinaciones_invalidas_categoria,','))\n",
        "porcentaje_campos_validos_categoria= ((total_registros_categoria-num_combinaciones_invalidas_categoria)/total_registros_categoria)*100\n",
        "print(\"Porcentaje de campos con combinaciones validas categoria y segmento_poblacional:\", round(porcentaje_campos_validos_categoria,2), \"%\")"
      ],
      "metadata": {
        "colab": {
          "base_uri": "https://localhost:8080/"
        },
        "id": "DtxfWbK-c7Ba",
        "outputId": "02907f95-09b9-4c9d-efcc-9a40a92ef66a"
      },
      "execution_count": 115,
      "outputs": [
        {
          "output_type": "stream",
          "name": "stdout",
          "text": [
            "Número de campos con conbinaciones validas: 234,057\n",
            "Porcentaje de campos con combinaciones validas categoria y segmento_poblacional: 39.39 %\n"
          ]
        }
      ]
    }
  ]
}